{
 "cells": [
  {
   "cell_type": "markdown",
   "metadata": {},
   "source": [
    "# <p style='color:blue;'> Hackathon - IA </p>\n",
    "## <p style='color:magenta;'> Atividade Machine Learning #2 </p>"
   ]
  },
  {
   "cell_type": "markdown",
   "metadata": {},
   "source": [
    "- - - "
   ]
  },
  {
   "cell_type": "markdown",
   "metadata": {},
   "source": [
    "Este Notebook tem o propósito de auxiliá-los na realização da segunda atividade de Machine Learning e nesta atividade, vocês vão desenvolver um classificador de <i>Fake News</i>.\n",
    "\n",
    "Na pasta `./dataset_full` vocês poderão encontrar o dataset completo dividido entre as pastas <u style='color:red'>Fake</u> e <u style='color:green'>True</u> que contém respectivamente as amostras verdadeiras e falsas das notícias. Além destas pastas, podem ser encontradas também a pasta `information` que contém as seguintes informações sobre cada um dos arquivos: \n",
    "\n",
    "    * Autor\n",
    "    * Link\n",
    "    * Categoria\n",
    "    * Data de publicação\n",
    "    * Número de Tokens\n",
    "    * Número de palavras sem pontuações\n",
    "    * Número de tipos\n",
    "    * Número de links dentro das notícias\n",
    "    * Número de palavras maiúsculas\n",
    "    * Número de verbos\n",
    "    * Número de verbos subjuntivos de imperativos\n",
    "    * Número de substantivos\n",
    "    * Número de adjetivos\n",
    "    * Número de verbos modais\n",
    "    * Número de primeiro e segundo pronomes pessoais no singular\n",
    "    * Número de primeiros pronomes pessoais no plural\n",
    "    * Número de pronomes\n",
    "    * Pausalidade\n",
    "    * Número de caracteres \n",
    "    * Tamanho médio da setença\n",
    "    * Tamanho médio da palavra\n",
    "    * Porcentagem de notícias com erros de 'fala'\n",
    "    * Emoção\n",
    "    * Diversidade"
   ]
  },
  {
   "cell_type": "markdown",
   "metadata": {},
   "source": [
    " - - -"
   ]
  },
  {
   "cell_type": "markdown",
   "metadata": {},
   "source": [
    "## <p style='color:green;'> Critérios de avaliação </p>"
   ]
  },
  {
   "cell_type": "markdown",
   "metadata": {},
   "source": [
    "Nesta atividade será avaliado o estudo dos dados, o processamento do texto e também a contrução dos modelos.\n",
    "\n",
    "Vocês devem utilizar um, **ou mais**, modelos da preferência de vocês, desde que se limitem a modelos de MACHINE LEARNING e comparar seus resultados.\n",
    "\n",
    "- A contrução e explicação de cada uma das decisões tomadas serão mais bem avaliadas do que métricas sobre determinado modelo.\n",
    "- Todo o trabalho será avalidado (tanto resultados positivos quanto negativos).\n",
    "- A organização será avaliada.\n",
    "- Ninguém precisa ser o Deus do Pep8, mas aqueles que respeitarem os padrões também serão melhor avaliados.\n",
    "- Se você estiver conectado à internet aparecerão gatinhos legais no seu Jupyter.\n",
    "- Lembrem-se das aulas, mas vocês estão livres para utilizar a criatividade."
   ]
  },
  {
   "cell_type": "markdown",
   "metadata": {},
   "source": [
    "> Essa atividade pode ser entregue até o dia 22/02/2020 no e-mail saraselisn@gmail.com"
   ]
  },
  {
   "cell_type": "markdown",
   "metadata": {},
   "source": [
    "## <p style='color:gray;'> Data Science </p>"
   ]
  },
  {
   "cell_type": "markdown",
   "metadata": {},
   "source": [
    "![cat_science](https://miro.medium.com/max/500/1*ZhYNqU2y96_f3QkWq9oiWQ.jpeg)"
   ]
  },
  {
   "cell_type": "code",
   "execution_count": 1,
   "metadata": {},
   "outputs": [],
   "source": [
    "## Insira seus códigos aqui"
   ]
  },
  {
   "cell_type": "code",
   "execution_count": null,
   "metadata": {},
   "outputs": [],
   "source": []
  },
  {
   "cell_type": "markdown",
   "metadata": {},
   "source": [
    "- - -"
   ]
  },
  {
   "cell_type": "markdown",
   "metadata": {},
   "source": [
    "## <p style='color:purple;'> Text Processing <p>"
   ]
  },
  {
   "cell_type": "markdown",
   "metadata": {},
   "source": [
    "![cat_texting](http://2.bp.blogspot.com/-lnsoTuz03Ik/T-3x6o6q1aI/AAAAAAAAAEw/lxxOy82Gp7o/s1600/cattypes.jpg)"
   ]
  },
  {
   "cell_type": "code",
   "execution_count": 2,
   "metadata": {},
   "outputs": [],
   "source": [
    "## Insira seus códigos aqui"
   ]
  },
  {
   "cell_type": "code",
   "execution_count": null,
   "metadata": {},
   "outputs": [],
   "source": []
  },
  {
   "cell_type": "markdown",
   "metadata": {},
   "source": [
    "- - -"
   ]
  },
  {
   "cell_type": "markdown",
   "metadata": {},
   "source": [
    "## <p style='color:brown;'> ML </p>"
   ]
  },
  {
   "cell_type": "markdown",
   "metadata": {},
   "source": [
    "![machine_cat](https://pbs.twimg.com/media/DQJWAk5UEAEkR1b?format=jpg&name=360x360)"
   ]
  },
  {
   "cell_type": "code",
   "execution_count": 3,
   "metadata": {},
   "outputs": [],
   "source": [
    "## Insira seus códigos aqui"
   ]
  },
  {
   "cell_type": "code",
   "execution_count": null,
   "metadata": {},
   "outputs": [],
   "source": []
  },
  {
   "cell_type": "markdown",
   "metadata": {},
   "source": [
    "### Flw\n",
    "![cat_bye](https://twistedsifter.files.wordpress.com/2014/12/dog-waving-bye.jpg)"
   ]
  }
 ],
 "metadata": {
  "kernelspec": {
   "display_name": "Python 3",
   "language": "python",
   "name": "python3"
  },
  "language_info": {
   "codemirror_mode": {
    "name": "ipython",
    "version": 3
   },
   "file_extension": ".py",
   "mimetype": "text/x-python",
   "name": "python",
   "nbconvert_exporter": "python",
   "pygments_lexer": "ipython3",
   "version": "3.6.9"
  }
 },
 "nbformat": 4,
 "nbformat_minor": 4
}
